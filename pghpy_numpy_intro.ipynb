{
 "metadata": {
  "name": ""
 },
 "nbformat": 3,
 "nbformat_minor": 0,
 "worksheets": [
  {
   "cells": [
    {
     "cell_type": "markdown",
     "metadata": {
      "slideshow": {
       "slide_type": "-"
      }
     },
     "source": [
      "# An introduction to Numpy and the scientific python ecosystem\n",
      "##*PghPy Meetup - March 26, 2014*"
     ]
    },
    {
     "cell_type": "markdown",
     "metadata": {
      "slideshow": {
       "slide_type": "-"
      }
     },
     "source": [
      "## Who am I?\n",
      "\n",
      "Computational Biophysicist :: Research Assistant Professor, Department of Biological Sciences at Pitt\n",
      "\n",
      "- github/twitter: @synapticarbors\n",
      "\n",
      "<img src=\"files/images/vsglt_water.png\" width=\"40%\" height=\"40%\"/>\n",
      "\n",
      "<img src=\"files/images/westpa.png\"> \n",
      "<img src=\"files/images/westpa_scaling.png\" width=\"30%\" height=\"30%\"> \n",
      "\n",
      "Weighted Ensemble Sampling Toolkit with Parallelization and Analysis\n",
      "(co-developer)"
     ]
    },
    {
     "cell_type": "markdown",
     "metadata": {},
     "source": [
      "## An overview of the Python Scientific Stack\n",
      "\n",
      "<img src=\"files/images/ecosystem.001.png\" width=\"85%\" height=\"85%\"/>"
     ]
    },
    {
     "cell_type": "markdown",
     "metadata": {},
     "source": [
      "# Widespread use of NumPy\n",
      "\n",
      "Survey of module imports in code hosted by Github collected in PEP 465 used to argue for the addition of a matrix multiplication operator in python:\n",
      "http://legacy.python.org/dev/peps/pep-0465/"
     ]
    },
    {
     "cell_type": "raw",
     "metadata": {},
     "source": [
      "Count of Python source files on Github matching given search terms\n",
      "                 (as of 2014-04-10, ~21:00 UTC)\n",
      "================ ==========  ===============  =======  ===========\n",
      "module           \"import X\"  \"from X import\"    total  total/numpy\n",
      "================ ==========  ===============  =======  ===========\n",
      "sys                 2374638            63301  2437939         5.85\n",
      "os                  1971515            37571  2009086         4.82\n",
      "re                  1294651             8358  1303009         3.12\n",
      "numpy ************** 337916 ********** 79065 * 416981 ******* 1.00\n",
      "warnings             298195            73150   371345         0.89\n",
      "subprocess           281290            63644   344934         0.83\n",
      "django                62795           219302   282097         0.68\n",
      "math                 200084            81903   281987         0.68\n",
      "threading            212302            45423   257725         0.62\n",
      "pickle+cPickle       215349            22672   238021         0.57\n",
      "matplotlib           119054            27859   146913         0.35\n",
      "sqlalchemy            29842            82850   112692         0.27\n",
      "pylab *************** 36754 ********** 41063 ** 77817 ******* 0.19\n",
      "scipy *************** 40829 ********** 28263 ** 69092 ******* 0.17\n",
      "lxml                  19026            38061    57087         0.14\n",
      "zlib                  40486             6623    47109         0.11\n",
      "multiprocessing       25247            19850    45097         0.11\n",
      "requests              30896              560    31456         0.08\n",
      "jinja2                 8057            24047    32104         0.08\n",
      "twisted               13858             6404    20262         0.05\n",
      "gevent                11309             8529    19838         0.05\n",
      "pandas ************** 14923 *********** 4005 ** 18928 ******* 0.05\n",
      "sympy                  2779             9537    12316         0.03\n",
      "theano *************** 3654 *********** 1828 *** 5482 ******* 0.01\n",
      "================ ==========  ===============  =======  ==========="
     ]
    },
    {
     "cell_type": "markdown",
     "metadata": {},
     "source": [
      "# A quick introduction to IPython"
     ]
    },
    {
     "cell_type": "markdown",
     "metadata": {},
     "source": [
      "##Getting Help\n",
      "\n",
      "You can get help info/the docstring for a method using either:"
     ]
    },
    {
     "cell_type": "code",
     "collapsed": true,
     "input": [
      "help(map)"
     ],
     "language": "python",
     "metadata": {},
     "outputs": [
      {
       "output_type": "stream",
       "stream": "stdout",
       "text": [
        "Help on built-in function map in module __builtin__:\n",
        "\n",
        "map(...)\n",
        "    map(function, sequence[, sequence, ...]) -> list\n",
        "    \n",
        "    Return a list of the results of applying the function to the items of\n",
        "    the argument sequence(s).  If more than one sequence is given, the\n",
        "    function is called with an argument list consisting of the corresponding\n",
        "    item of each sequence, substituting None for missing values when not all\n",
        "    sequences have the same length.  If the function is None, return a list of\n",
        "    the items of the sequence (or a list of tuples if more than one sequence).\n",
        "\n"
       ]
      }
     ],
     "prompt_number": 1
    },
    {
     "cell_type": "code",
     "collapsed": false,
     "input": [
      "map?"
     ],
     "language": "python",
     "metadata": {},
     "outputs": [],
     "prompt_number": 2
    },
    {
     "cell_type": "markdown",
     "metadata": {},
     "source": [
      "## Markdown and LaTex"
     ]
    },
    {
     "cell_type": "markdown",
     "metadata": {},
     "source": [
      "The IPython notebook supports rich text via Markdown and mathematical expressions using [MathJax](http://www.mathjax.org/)"
     ]
    },
    {
     "cell_type": "markdown",
     "metadata": {},
     "source": [
      "We can put **inline math** as in $\\sum_i^N \\pi_i = 1$\n",
      "\n",
      "or:\n",
      "\n",
      "$$y = \\int \\frac{x^2}{e^x}dx$$"
     ]
    },
    {
     "cell_type": "markdown",
     "metadata": {},
     "source": [
      "## Magic\n",
      "\n",
      "IPython has a system of commands called 'magics' that add additional functionality to IPython. Magics come in two kinds:\n",
      "\n",
      "- Line magics: these are commands prepended by one % character and whose arguments only extend to the end of the current line.\n",
      "- Cell magics: these use two percent characters as a marker (%%), and they receive as argument both the current line where they are declared and the whole body of the cell. "
     ]
    },
    {
     "cell_type": "code",
     "collapsed": false,
     "input": [
      "%lsmagic"
     ],
     "language": "python",
     "metadata": {},
     "outputs": [
      {
       "json": [
        "{\"cell\": {\"prun\": \"ExecutionMagics\", \"file\": \"Other\", \"!\": \"OSMagics\", \"capture\": \"ExecutionMagics\", \"timeit\": \"ExecutionMagics\", \"script\": \"ScriptMagics\", \"ruby\": \"Other\", \"system\": \"OSMagics\", \"perl\": \"Other\", \"HTML\": \"Other\", \"bash\": \"Other\", \"python\": \"Other\", \"SVG\": \"Other\", \"javascript\": \"DisplayMagics\", \"writefile\": \"OSMagics\", \"pypy\": \"Other\", \"python3\": \"Other\", \"latex\": \"DisplayMagics\", \"sx\": \"OSMagics\", \"svg\": \"DisplayMagics\", \"html\": \"DisplayMagics\", \"sh\": \"Other\", \"time\": \"ExecutionMagics\", \"debug\": \"ExecutionMagics\"}, \"line\": {\"psource\": \"NamespaceMagics\", \"logstart\": \"LoggingMagics\", \"popd\": \"OSMagics\", \"loadpy\": \"CodeMagics\", \"install_ext\": \"ExtensionMagics\", \"colors\": \"BasicMagics\", \"who_ls\": \"NamespaceMagics\", \"install_profiles\": \"DeprecatedMagics\", \"pprint\": \"BasicMagics\", \"save\": \"CodeMagics\", \"tb\": \"ExecutionMagics\", \"pylab\": \"PylabMagics\", \"killbgscripts\": \"ScriptMagics\", \"quickref\": \"BasicMagics\", \"magic\": \"BasicMagics\", \"dhist\": \"OSMagics\", \"edit\": \"KernelMagics\", \"logstop\": \"LoggingMagics\", \"gui\": \"BasicMagics\", \"alias_magic\": \"BasicMagics\", \"debug\": \"ExecutionMagics\", \"page\": \"BasicMagics\", \"logstate\": \"LoggingMagics\", \"ed\": \"Other\", \"pushd\": \"OSMagics\", \"timeit\": \"ExecutionMagics\", \"rep\": \"Other\", \"hist\": \"Other\", \"qtconsole\": \"KernelMagics\", \"dirs\": \"OSMagics\", \"run\": \"ExecutionMagics\", \"reset_selective\": \"NamespaceMagics\", \"pinfo2\": \"NamespaceMagics\", \"matplotlib\": \"PylabMagics\", \"automagic\": \"AutoMagics\", \"doctest_mode\": \"KernelMagics\", \"logoff\": \"LoggingMagics\", \"reload_ext\": \"ExtensionMagics\", \"pdb\": \"ExecutionMagics\", \"load\": \"CodeMagics\", \"lsmagic\": \"BasicMagics\", \"autosave\": \"KernelMagics\", \"cd\": \"OSMagics\", \"pastebin\": \"CodeMagics\", \"prun\": \"ExecutionMagics\", \"lprun\": \"Other\", \"autocall\": \"AutoMagics\", \"bookmark\": \"OSMagics\", \"connect_info\": \"KernelMagics\", \"system\": \"OSMagics\", \"whos\": \"NamespaceMagics\", \"unload_ext\": \"ExtensionMagics\", \"store\": \"StoreMagics\", \"more\": \"KernelMagics\", \"pdef\": \"NamespaceMagics\", \"precision\": \"BasicMagics\", \"pinfo\": \"NamespaceMagics\", \"pwd\": \"OSMagics\", \"psearch\": \"NamespaceMagics\", \"reset\": \"NamespaceMagics\", \"recall\": \"HistoryMagics\", \"xdel\": \"NamespaceMagics\", \"xmode\": \"BasicMagics\", \"rerun\": \"HistoryMagics\", \"logon\": \"LoggingMagics\", \"history\": \"HistoryMagics\", \"pycat\": \"OSMagics\", \"unalias\": \"OSMagics\", \"install_default_config\": \"DeprecatedMagics\", \"env\": \"OSMagics\", \"load_ext\": \"ExtensionMagics\", \"config\": \"ConfigMagics\", \"profile\": \"BasicMagics\", \"pfile\": \"NamespaceMagics\", \"less\": \"KernelMagics\", \"who\": \"NamespaceMagics\", \"notebook\": \"BasicMagics\", \"man\": \"KernelMagics\", \"sx\": \"OSMagics\", \"macro\": \"ExecutionMagics\", \"clear\": \"KernelMagics\", \"alias\": \"OSMagics\", \"time\": \"ExecutionMagics\", \"sc\": \"OSMagics\", \"rehashx\": \"OSMagics\", \"pdoc\": \"NamespaceMagics\"}}"
       ],
       "metadata": {},
       "output_type": "pyout",
       "prompt_number": 3,
       "text": [
        "Available line magics:\n",
        "%alias  %alias_magic  %autocall  %automagic  %autosave  %bookmark  %cd  %clear  %colors  %config  %connect_info  %debug  %dhist  %dirs  %doctest_mode  %ed  %edit  %env  %gui  %hist  %history  %install_default_config  %install_ext  %install_profiles  %killbgscripts  %less  %load  %load_ext  %loadpy  %logoff  %logon  %logstart  %logstate  %logstop  %lprun  %lsmagic  %macro  %magic  %man  %matplotlib  %more  %notebook  %page  %pastebin  %pdb  %pdef  %pdoc  %pfile  %pinfo  %pinfo2  %popd  %pprint  %precision  %profile  %prun  %psearch  %psource  %pushd  %pwd  %pycat  %pylab  %qtconsole  %quickref  %recall  %rehashx  %reload_ext  %rep  %rerun  %reset  %reset_selective  %run  %save  %sc  %store  %sx  %system  %tb  %time  %timeit  %unalias  %unload_ext  %who  %who_ls  %whos  %xdel  %xmode\n",
        "\n",
        "Available cell magics:\n",
        "%%!  %%HTML  %%SVG  %%bash  %%capture  %%debug  %%file  %%html  %%javascript  %%latex  %%perl  %%prun  %%pypy  %%python  %%python3  %%ruby  %%script  %%sh  %%svg  %%sx  %%system  %%time  %%timeit  %%writefile\n",
        "\n",
        "Automagic is ON, % prefix IS NOT needed for line magics."
       ]
      }
     ],
     "prompt_number": 3
    },
    {
     "cell_type": "code",
     "collapsed": false,
     "input": [
      "%timeit sum(range(10000))"
     ],
     "language": "python",
     "metadata": {},
     "outputs": [
      {
       "output_type": "stream",
       "stream": "stdout",
       "text": [
        "10000 loops, best of 3: 195 \u00b5s per loop\n"
       ]
      }
     ],
     "prompt_number": 4
    },
    {
     "cell_type": "code",
     "collapsed": false,
     "input": [
      "%%timeit -n 1\n",
      "s = 0\n",
      "for k in xrange(10000):\n",
      "    s += k"
     ],
     "language": "python",
     "metadata": {},
     "outputs": [
      {
       "output_type": "stream",
       "stream": "stdout",
       "text": [
        "1 loops, best of 3: 588 \u00b5s per loop\n"
       ]
      }
     ],
     "prompt_number": 5
    },
    {
     "cell_type": "markdown",
     "metadata": {},
     "source": [
      "## Call out to the shell\n",
      "\n",
      "We can make shell calls by pre-pending the usual command with `!`. So for example, in a posix-like environment"
     ]
    },
    {
     "cell_type": "code",
     "collapsed": false,
     "input": [
      "!du -sh *.ipynb"
     ],
     "language": "python",
     "metadata": {},
     "outputs": [
      {
       "output_type": "stream",
       "stream": "stdout",
       "text": [
        "336K\tpghpy_numpy_intro.ipynb\r\n"
       ]
      }
     ],
     "prompt_number": 6
    },
    {
     "cell_type": "markdown",
     "metadata": {},
     "source": [
      "##Inline Plotting\n",
      "\n",
      "Using the matplotlib magic, we can tell IPython to embded plots inside the notebook. This also works in the IPython qtconsole. "
     ]
    },
    {
     "cell_type": "code",
     "collapsed": false,
     "input": [
      "%matplotlib inline\n",
      "from matplotlib import pyplot as plt"
     ],
     "language": "python",
     "metadata": {},
     "outputs": [],
     "prompt_number": 7
    },
    {
     "cell_type": "code",
     "collapsed": false,
     "input": [
      "plt.plot(range(100), range(100,200))"
     ],
     "language": "python",
     "metadata": {},
     "outputs": [
      {
       "metadata": {},
       "output_type": "pyout",
       "prompt_number": 8,
       "text": [
        "[<matplotlib.lines.Line2D at 0x10b364950>]"
       ]
      },
      {
       "metadata": {},
       "output_type": "display_data",
       "png": "[encoded data removed]",
       "text": [
        "<matplotlib.figure.Figure at 0x10b338b50>"
       ]
      }
     ],
     "prompt_number": 8
    },
    {
     "cell_type": "markdown",
     "metadata": {},
     "source": [
      "## Mind blown\n",
      "\n",
      "There are IPython magic functions that allow one to call other languages from the notebook and caputre variables and figures. Below is an example for R, but similar functionality exists for Octave, Julia, Ruby, etc. For this example to work, you'll need a copy of R on your machine as well as rpy2."
     ]
    },
    {
     "cell_type": "code",
     "collapsed": false,
     "input": [
      "import numpy as np"
     ],
     "language": "python",
     "metadata": {},
     "outputs": [],
     "prompt_number": 9
    },
    {
     "cell_type": "code",
     "collapsed": false,
     "input": [
      "%load_ext rmagic"
     ],
     "language": "python",
     "metadata": {},
     "outputs": [],
     "prompt_number": 10
    },
    {
     "cell_type": "code",
     "collapsed": false,
     "input": [
      "x = np.arange(100)\n",
      "y = 3 * np.arange(100) + np.random.normal(size=(100,), scale=12)"
     ],
     "language": "python",
     "metadata": {},
     "outputs": [],
     "prompt_number": 11
    },
    {
     "cell_type": "code",
     "collapsed": false,
     "input": [
      "%%R -i x,y -o xylm_coef\n",
      "xylm = lm(y~x)\n",
      "print(summary(xylm))\n",
      "plot(y~x)\n",
      "par(col=\"red\", lwd=2)\n",
      "abline(xylm)\n",
      "xylm_coef = coef(xylm)"
     ],
     "language": "python",
     "metadata": {},
     "outputs": [
      {
       "metadata": {},
       "output_type": "display_data",
       "text": [
        "\n",
        "Call:\n",
        "lm(formula = y ~ x)\n",
        "\n",
        "Residuals:\n",
        "     Min       1Q   Median       3Q      Max \n",
        "-29.0577  -7.0399  -0.5736   7.6043  29.3091 \n",
        "\n",
        "Coefficients:\n",
        "            Estimate Std. Error t value Pr(>|t|)    \n",
        "(Intercept)  4.99198    2.12522   2.349   0.0208 *  \n",
        "x            2.90801    0.03709  78.408   <2e-16 ***\n",
        "---\n",
        "Signif. codes:  0 \u2018***\u2019 0.001 \u2018**\u2019 0.01 \u2018*\u2019 0.05 \u2018.\u2019 0.1 \u2018 \u2019 1\n",
        "\n",
        "Residual standard error: 10.71 on 98 degrees of freedom\n",
        "Multiple R-squared:  0.9843,\tAdjusted R-squared:  0.9841 \n",
        "F-statistic:  6148 on 1 and 98 DF,  p-value: < 2.2e-16\n",
        "\n"
       ]
      },
      {
       "metadata": {},
       "output_type": "display_data",
       "png": "[encoded data removed]"
      }
     ],
     "prompt_number": 12
    },
    {
     "cell_type": "code",
     "collapsed": false,
     "input": [
      "xylm_coef"
     ],
     "language": "python",
     "metadata": {},
     "outputs": [
      {
       "metadata": {},
       "output_type": "pyout",
       "prompt_number": 14,
       "text": [
        "array([ 4.99197591,  2.90800971])"
       ]
      }
     ],
     "prompt_number": 14
    },
    {
     "cell_type": "markdown",
     "metadata": {},
     "source": [
      "# The Numpy ndarray"
     ]
    },
    {
     "cell_type": "markdown",
     "metadata": {},
     "source": [
      "## What is it?\n",
      "\n",
      "\u2192 block of memory + indexing scheme + data type descriptor\n",
      "\n",
      "- a reference to raw data\n",
      "- how to locate an element in the array\n",
      "- how to interpret an element in the array\n",
      "\n",
      "<img src=\"files/images/dtype.png\"/>\n",
      "\n",
      "\n",
      "\u2192 Attributes\n",
      "\n",
      "- data : memory location\n",
      "- shape : size of each dimension\n",
      "- itemsize : size of each element\n",
      "- strides : how to move through memory in each direction\n",
      "- dtype : data type of the elements\n"
     ]
    },
    {
     "cell_type": "markdown",
     "metadata": {},
     "source": [
      "## Importing NumPy"
     ]
    },
    {
     "cell_type": "code",
     "collapsed": false,
     "input": [
      "import numpy as np"
     ],
     "language": "python",
     "metadata": {},
     "outputs": [],
     "prompt_number": 15
    },
    {
     "cell_type": "markdown",
     "metadata": {},
     "source": [
      "## Creating Arrays\n",
      "\n",
      "We will start by creating a simple python list and an array with the same content"
     ]
    },
    {
     "cell_type": "code",
     "collapsed": false,
     "input": [
      "lst = [1, 2, 3, 4, 5]\n",
      "arr = np.array(lst)"
     ],
     "language": "python",
     "metadata": {},
     "outputs": [],
     "prompt_number": 16
    },
    {
     "cell_type": "markdown",
     "metadata": {},
     "source": [
      "### dtypes\n",
      "\n",
      "We didn't specify the type of the data, but numpy intuited it from the contents of `lst`"
     ]
    },
    {
     "cell_type": "code",
     "collapsed": false,
     "input": [
      "print arr.dtype"
     ],
     "language": "python",
     "metadata": {},
     "outputs": [
      {
       "output_type": "stream",
       "stream": "stdout",
       "text": [
        "int64\n"
       ]
      }
     ],
     "prompt_number": 17
    },
    {
     "cell_type": "markdown",
     "metadata": {},
     "source": [
      "We could also set it explicitly, for example to a 32 bit float"
     ]
    },
    {
     "cell_type": "code",
     "collapsed": false,
     "input": [
      "arr = np.array(lst, dtype=np.float32)\n",
      "print arr\n",
      "print arr.dtype"
     ],
     "language": "python",
     "metadata": {},
     "outputs": [
      {
       "output_type": "stream",
       "stream": "stdout",
       "text": [
        "[ 1.  2.  3.  4.  5.]\n",
        "float32\n"
       ]
      }
     ],
     "prompt_number": 18
    },
    {
     "cell_type": "markdown",
     "metadata": {},
     "source": [
      "##Accessing elements\n",
      "\n"
     ]
    },
    {
     "cell_type": "markdown",
     "metadata": {},
     "source": [
      "###Single Elements\n",
      "\n",
      "Elements of a 1d array are accessed in the same way as a regular python list"
     ]
    },
    {
     "cell_type": "code",
     "collapsed": false,
     "input": [
      "lst[0]"
     ],
     "language": "python",
     "metadata": {},
     "outputs": [
      {
       "metadata": {},
       "output_type": "pyout",
       "prompt_number": 19,
       "text": [
        "1"
       ]
      }
     ],
     "prompt_number": 19
    },
    {
     "cell_type": "code",
     "collapsed": false,
     "input": [
      "arr[0]"
     ],
     "language": "python",
     "metadata": {},
     "outputs": [
      {
       "metadata": {},
       "output_type": "pyout",
       "prompt_number": 20,
       "text": [
        "1.0"
       ]
      }
     ],
     "prompt_number": 20
    },
    {
     "cell_type": "code",
     "collapsed": false,
     "input": [
      "arr[-1]"
     ],
     "language": "python",
     "metadata": {},
     "outputs": [
      {
       "metadata": {},
       "output_type": "pyout",
       "prompt_number": 21,
       "text": [
        "5.0"
       ]
      }
     ],
     "prompt_number": 21
    },
    {
     "cell_type": "markdown",
     "metadata": {},
     "source": [
      "###Slices\n",
      "\n",
      "Slicing follows the same syntax `start:stop:stride`"
     ]
    },
    {
     "cell_type": "code",
     "collapsed": false,
     "input": [
      "arr[2:]"
     ],
     "language": "python",
     "metadata": {},
     "outputs": [
      {
       "metadata": {},
       "output_type": "pyout",
       "prompt_number": 22,
       "text": [
        "array([ 3.,  4.,  5.], dtype=float32)"
       ]
      }
     ],
     "prompt_number": 22
    },
    {
     "cell_type": "code",
     "collapsed": false,
     "input": [
      "arr[::2]"
     ],
     "language": "python",
     "metadata": {},
     "outputs": [
      {
       "metadata": {},
       "output_type": "pyout",
       "prompt_number": 23,
       "text": [
        "array([ 1.,  3.,  5.], dtype=float32)"
       ]
      }
     ],
     "prompt_number": 23
    },
    {
     "cell_type": "markdown",
     "metadata": {},
     "source": [
      "## Creating arrays\n",
      "\n",
      "While you can create an array from an existing list, numpy provides a number of other routines. If you are familiar with Matlab, some of these will be familiar."
     ]
    },
    {
     "cell_type": "code",
     "collapsed": false,
     "input": [
      "np.zeros(5, np.float64)"
     ],
     "language": "python",
     "metadata": {},
     "outputs": [
      {
       "metadata": {},
       "output_type": "pyout",
       "prompt_number": 24,
       "text": [
        "array([ 0.,  0.,  0.,  0.,  0.])"
       ]
      }
     ],
     "prompt_number": 24
    },
    {
     "cell_type": "code",
     "collapsed": false,
     "input": [
      "np.zeros(5, dtype=np.int)"
     ],
     "language": "python",
     "metadata": {},
     "outputs": [
      {
       "metadata": {},
       "output_type": "pyout",
       "prompt_number": 25,
       "text": [
        "array([0, 0, 0, 0, 0])"
       ]
      }
     ],
     "prompt_number": 25
    },
    {
     "cell_type": "code",
     "collapsed": false,
     "input": [
      "np.zeros(5, dtype=np.complex)"
     ],
     "language": "python",
     "metadata": {},
     "outputs": [
      {
       "metadata": {},
       "output_type": "pyout",
       "prompt_number": 26,
       "text": [
        "array([ 0.+0.j,  0.+0.j,  0.+0.j,  0.+0.j,  0.+0.j])"
       ]
      }
     ],
     "prompt_number": 26
    },
    {
     "cell_type": "code",
     "collapsed": false,
     "input": [
      "np.ones(5)"
     ],
     "language": "python",
     "metadata": {},
     "outputs": [
      {
       "metadata": {},
       "output_type": "pyout",
       "prompt_number": 27,
       "text": [
        "array([ 1.,  1.,  1.,  1.,  1.])"
       ]
      }
     ],
     "prompt_number": 27
    },
    {
     "cell_type": "code",
     "collapsed": false,
     "input": [
      "a = np.empty(5)\n",
      "print a\n",
      "a.fill(1.1)\n",
      "print a"
     ],
     "language": "python",
     "metadata": {},
     "outputs": [
      {
       "output_type": "stream",
       "stream": "stdout",
       "text": [
        "[  2.96439388e-323   2.19997032e-314   2.13190379e-314   2.12358605e-314\n",
        "   2.12343736e-314]\n",
        "[ 1.1  1.1  1.1  1.1  1.1]\n"
       ]
      }
     ],
     "prompt_number": 28
    },
    {
     "cell_type": "code",
     "collapsed": false,
     "input": [
      "np.zeros_like(a)"
     ],
     "language": "python",
     "metadata": {},
     "outputs": [
      {
       "metadata": {},
       "output_type": "pyout",
       "prompt_number": 29,
       "text": [
        "array([ 0.,  0.,  0.,  0.,  0.])"
       ]
      }
     ],
     "prompt_number": 29
    },
    {
     "cell_type": "code",
     "collapsed": false,
     "input": [
      "np.identity(5)"
     ],
     "language": "python",
     "metadata": {},
     "outputs": [
      {
       "metadata": {},
       "output_type": "pyout",
       "prompt_number": 30,
       "text": [
        "array([[ 1.,  0.,  0.,  0.,  0.],\n",
        "       [ 0.,  1.,  0.,  0.,  0.],\n",
        "       [ 0.,  0.,  1.,  0.,  0.],\n",
        "       [ 0.,  0.,  0.,  1.,  0.],\n",
        "       [ 0.,  0.,  0.,  0.,  1.]])"
       ]
      }
     ],
     "prompt_number": 30
    },
    {
     "cell_type": "markdown",
     "metadata": {},
     "source": [
      "### Initializing Numpy arrays filled with sequences"
     ]
    },
    {
     "cell_type": "code",
     "collapsed": false,
     "input": [
      "np.arange(5)"
     ],
     "language": "python",
     "metadata": {},
     "outputs": [
      {
       "metadata": {},
       "output_type": "pyout",
       "prompt_number": 31,
       "text": [
        "array([0, 1, 2, 3, 4])"
       ]
      }
     ],
     "prompt_number": 31
    },
    {
     "cell_type": "code",
     "collapsed": false,
     "input": [
      "np.arange(2,10,2)"
     ],
     "language": "python",
     "metadata": {},
     "outputs": [
      {
       "metadata": {},
       "output_type": "pyout",
       "prompt_number": 32,
       "text": [
        "array([2, 4, 6, 8])"
       ]
      }
     ],
     "prompt_number": 32
    },
    {
     "cell_type": "code",
     "collapsed": false,
     "input": [
      "np.linspace(0,3,10)"
     ],
     "language": "python",
     "metadata": {},
     "outputs": [
      {
       "metadata": {},
       "output_type": "pyout",
       "prompt_number": 33,
       "text": [
        "array([ 0.        ,  0.33333333,  0.66666667,  1.        ,  1.33333333,\n",
        "        1.66666667,  2.        ,  2.33333333,  2.66666667,  3.        ])"
       ]
      }
     ],
     "prompt_number": 33
    },
    {
     "cell_type": "markdown",
     "metadata": {},
     "source": [
      "Full list of array creation routines:\n",
      "http://docs.scipy.org/doc/numpy/reference/routines.array-creation.html"
     ]
    },
    {
     "cell_type": "markdown",
     "metadata": {},
     "source": [
      "### Creating random arrays\n",
      "\n",
      "Numpy provides a number of routines to provide arrays with elements drawn from a random distribution via the `np.random` module"
     ]
    },
    {
     "cell_type": "code",
     "collapsed": false,
     "input": [
      "np.random.normal(0, 1, 20)"
     ],
     "language": "python",
     "metadata": {},
     "outputs": [
      {
       "metadata": {},
       "output_type": "pyout",
       "prompt_number": 34,
       "text": [
        "array([ -2.06450437e-01,   1.20284151e+00,  -5.03534659e-02,\n",
        "        -4.41395718e-01,  -1.36353646e+00,  -1.16877520e+00,\n",
        "         5.65753299e-01,  -3.00032512e-01,  -1.27711571e+00,\n",
        "         1.70368436e+00,  -1.16959385e+00,  -5.73091366e-04,\n",
        "        -5.97912866e-01,  -1.45845766e-01,  -8.52915777e-01,\n",
        "         1.75277131e+00,  -5.48488676e-01,   8.90417938e-01,\n",
        "        -7.79473688e-01,   1.10615922e+00])"
       ]
      }
     ],
     "prompt_number": 34
    },
    {
     "cell_type": "code",
     "collapsed": false,
     "input": [
      "plt.hist(np.random.normal(5, 3, 5000), bins=100);"
     ],
     "language": "python",
     "metadata": {},
     "outputs": [
      {
       "metadata": {},
       "output_type": "display_data",
       "png": "[encoded data removed]",
       "text": [
        "<matplotlib.figure.Figure at 0x1173ded10>"
       ]
      }
     ],
     "prompt_number": 35
    },
    {
     "cell_type": "markdown",
     "metadata": {},
     "source": [
      "## Differences between numpy arrays and python lists\n",
      "\n",
      "Numpy arrays are homogeneous (all elements are of the same type), whereas a python list is a generic container for arbitrary mixed types"
     ]
    },
    {
     "cell_type": "code",
     "collapsed": false,
     "input": [
      "lst[0] = 'Welcome to PghPy'\n",
      "print lst"
     ],
     "language": "python",
     "metadata": {},
     "outputs": [
      {
       "output_type": "stream",
       "stream": "stdout",
       "text": [
        "['Welcome to PghPy', 2, 3, 4, 5]\n"
       ]
      }
     ],
     "prompt_number": 36
    },
    {
     "cell_type": "code",
     "collapsed": false,
     "input": [
      "arr[0] = 'Welcome to PghPy'"
     ],
     "language": "python",
     "metadata": {},
     "outputs": [
      {
       "ename": "ValueError",
       "evalue": "could not convert string to float: Welcome to PghPy",
       "output_type": "pyerr",
       "traceback": [
        "\u001b[0;31m---------------------------------------------------------------------------\u001b[0m\n\u001b[0;31mValueError\u001b[0m                                Traceback (most recent call last)",
        "\u001b[0;32m<ipython-input-37-23f8e5af82dd>\u001b[0m in \u001b[0;36m<module>\u001b[0;34m()\u001b[0m\n\u001b[0;32m----> 1\u001b[0;31m \u001b[0marr\u001b[0m\u001b[0;34m[\u001b[0m\u001b[0;36m0\u001b[0m\u001b[0;34m]\u001b[0m \u001b[0;34m=\u001b[0m \u001b[0;34m'Welcome to PghPy'\u001b[0m\u001b[0;34m\u001b[0m\u001b[0m\n\u001b[0m",
        "\u001b[0;31mValueError\u001b[0m: could not convert string to float: Welcome to PghPy"
       ]
      }
     ],
     "prompt_number": 37
    },
    {
     "cell_type": "markdown",
     "metadata": {},
     "source": [
      "###Indexing with other arrays\n",
      "\n",
      "While you can index and extract elements of a python list with slices or single indices, ndarrays have a much more sophisticated and powerful indexing interface"
     ]
    },
    {
     "cell_type": "code",
     "collapsed": false,
     "input": [
      "a = np.random.normal(0,1,10)\n",
      "print a"
     ],
     "language": "python",
     "metadata": {},
     "outputs": [
      {
       "output_type": "stream",
       "stream": "stdout",
       "text": [
        "[-0.34607742  0.59697863  1.50602345  0.8589278  -0.79946926  2.04238257\n",
        "  1.29995137 -0.10120281 -0.247613    0.71605641]\n"
       ]
      }
     ],
     "prompt_number": 38
    },
    {
     "cell_type": "code",
     "collapsed": false,
     "input": [
      "mask = a > 0 # Create a boolean array with element-by-element evaluation of logical expression\n",
      "mask"
     ],
     "language": "python",
     "metadata": {},
     "outputs": [
      {
       "metadata": {},
       "output_type": "pyout",
       "prompt_number": 39,
       "text": [
        "array([False,  True,  True,  True, False,  True,  True, False, False,  True], dtype=bool)"
       ]
      }
     ],
     "prompt_number": 39
    },
    {
     "cell_type": "code",
     "collapsed": false,
     "input": [
      "a[mask]"
     ],
     "language": "python",
     "metadata": {},
     "outputs": [
      {
       "metadata": {},
       "output_type": "pyout",
       "prompt_number": 40,
       "text": [
        "array([ 0.59697863,  1.50602345,  0.8589278 ,  2.04238257,  1.29995137,\n",
        "        0.71605641])"
       ]
      }
     ],
     "prompt_number": 40
    },
    {
     "cell_type": "code",
     "collapsed": false,
     "input": [
      "a[mask] = 4.0\n",
      "a"
     ],
     "language": "python",
     "metadata": {},
     "outputs": [
      {
       "metadata": {},
       "output_type": "pyout",
       "prompt_number": 41,
       "text": [
        "array([-0.34607742,  4.        ,  4.        ,  4.        , -0.79946926,\n",
        "        4.        ,  4.        , -0.10120281, -0.247613  ,  4.        ])"
       ]
      }
     ],
     "prompt_number": 41
    },
    {
     "cell_type": "markdown",
     "metadata": {},
     "source": [
      "#### Fancy indexing\n",
      "\n",
      "Besides boolean arrays of the same size as the original array, we can also index with smaller arrays or lists containing the elements that we want. "
     ]
    },
    {
     "cell_type": "code",
     "collapsed": false,
     "input": [
      "a = np.random.normal(0,1,10)\n",
      "print a\n",
      "print '----'\n",
      "print a[[1,3,4,9]]"
     ],
     "language": "python",
     "metadata": {},
     "outputs": [
      {
       "output_type": "stream",
       "stream": "stdout",
       "text": [
        "[-1.00142734  0.45761122 -0.605984   -0.5527714  -1.28456071  2.80824596\n",
        " -2.23357149 -1.27443633 -0.2948222  -0.72710367]\n",
        "----\n",
        "[ 0.45761122 -0.5527714  -1.28456071 -0.72710367]\n"
       ]
      }
     ],
     "prompt_number": 42
    },
    {
     "cell_type": "markdown",
     "metadata": {},
     "source": [
      "## Arrays with more than one dimension\n",
      "\n",
      "While all of our examples thus far have involved 1D arrays, we can use Numpy to create arrays with arbitrary numbers of dimensions. As before, we can initialize an array from a list, but this time we'll use a list of lists"
     ]
    },
    {
     "cell_type": "code",
     "collapsed": false,
     "input": [
      "lst2d = [[0, 1, 2], [3, 4, 5]]\n",
      "print lst2d\n",
      "arr2d = np.array(lst2d)\n",
      "print arr2d"
     ],
     "language": "python",
     "metadata": {},
     "outputs": [
      {
       "output_type": "stream",
       "stream": "stdout",
       "text": [
        "[[0, 1, 2], [3, 4, 5]]\n",
        "[[0 1 2]\n",
        " [3 4 5]]\n"
       ]
      }
     ],
     "prompt_number": 43
    },
    {
     "cell_type": "markdown",
     "metadata": {},
     "source": [
      "While a list of lists requires you to drill down using multiple calls to the `[...]` operator, numpy uses a more compact notation with a single set of brackets"
     ]
    },
    {
     "cell_type": "code",
     "collapsed": false,
     "input": [
      "print lst2d[0][1]\n",
      "print arr2d[0,1]"
     ],
     "language": "python",
     "metadata": {},
     "outputs": [
      {
       "output_type": "stream",
       "stream": "stdout",
       "text": [
        "1\n",
        "1\n"
       ]
      }
     ],
     "prompt_number": 44
    },
    {
     "cell_type": "markdown",
     "metadata": {},
     "source": [
      "The list-type syntax is allowed, but is much less efficient"
     ]
    },
    {
     "cell_type": "code",
     "collapsed": false,
     "input": [
      "%timeit arr2d[0][1]\n",
      "%timeit arr2d[0,1]"
     ],
     "language": "python",
     "metadata": {},
     "outputs": [
      {
       "output_type": "stream",
       "stream": "stdout",
       "text": [
        "1000000 loops, best of 3: 648 ns per loop\n",
        "1000000 loops, best of 3: 242 ns per loop"
       ]
      },
      {
       "output_type": "stream",
       "stream": "stdout",
       "text": [
        "\n"
       ]
      }
     ],
     "prompt_number": 45
    },
    {
     "cell_type": "markdown",
     "metadata": {},
     "source": [
      "Using a single index with a multi-dimensional array gives you a slice along the first dimension"
     ]
    },
    {
     "cell_type": "code",
     "collapsed": false,
     "input": [
      "print arr2d[0]"
     ],
     "language": "python",
     "metadata": {},
     "outputs": [
      {
       "output_type": "stream",
       "stream": "stdout",
       "text": [
        "[0 1 2]\n"
       ]
      }
     ],
     "prompt_number": 46
    },
    {
     "cell_type": "code",
     "collapsed": false,
     "input": [
      "print arr2d[1]"
     ],
     "language": "python",
     "metadata": {},
     "outputs": [
      {
       "output_type": "stream",
       "stream": "stdout",
       "text": [
        "[3 4 5]\n"
       ]
      }
     ],
     "prompt_number": 47
    },
    {
     "cell_type": "markdown",
     "metadata": {},
     "source": [
      "The `:` operator can be used to get slices along different dimensions. Notice here that you don't get a column vector back here."
     ]
    },
    {
     "cell_type": "code",
     "collapsed": false,
     "input": [
      "arr2d[:,0]"
     ],
     "language": "python",
     "metadata": {},
     "outputs": [
      {
       "metadata": {},
       "output_type": "pyout",
       "prompt_number": 48,
       "text": [
        "array([0, 3])"
       ]
      }
     ],
     "prompt_number": 48
    },
    {
     "cell_type": "code",
     "collapsed": false,
     "input": [
      "arr2d[:,0].shape"
     ],
     "language": "python",
     "metadata": {},
     "outputs": [
      {
       "metadata": {},
       "output_type": "pyout",
       "prompt_number": 49,
       "text": [
        "(2,)"
       ]
      }
     ],
     "prompt_number": 49
    },
    {
     "cell_type": "code",
     "collapsed": false,
     "input": [
      "arr2d[:,0][:,None]"
     ],
     "language": "python",
     "metadata": {},
     "outputs": [
      {
       "metadata": {},
       "output_type": "pyout",
       "prompt_number": 50,
       "text": [
        "array([[0],\n",
        "       [3]])"
       ]
      }
     ],
     "prompt_number": 50
    },
    {
     "cell_type": "code",
     "collapsed": false,
     "input": [
      "arr2d[:,0][:,np.newaxis].shape # you can also use `None` in place of `np.newaxis`"
     ],
     "language": "python",
     "metadata": {},
     "outputs": [
      {
       "metadata": {},
       "output_type": "pyout",
       "prompt_number": 51,
       "text": [
        "(2, 1)"
       ]
      }
     ],
     "prompt_number": 51
    },
    {
     "cell_type": "markdown",
     "metadata": {},
     "source": [
      "### Multi-dimensional array creation from functions and other arrays\n",
      "\n",
      "Many of the array creation routines that we saw before can also create multidimensional arrays"
     ]
    },
    {
     "cell_type": "code",
     "collapsed": false,
     "input": [
      "np.zeros((3,4))"
     ],
     "language": "python",
     "metadata": {},
     "outputs": [
      {
       "metadata": {},
       "output_type": "pyout",
       "prompt_number": 52,
       "text": [
        "array([[ 0.,  0.,  0.,  0.],\n",
        "       [ 0.,  0.,  0.,  0.],\n",
        "       [ 0.,  0.,  0.,  0.]])"
       ]
      }
     ],
     "prompt_number": 52
    },
    {
     "cell_type": "code",
     "collapsed": false,
     "input": [
      "np.zeros((3,4,2))"
     ],
     "language": "python",
     "metadata": {},
     "outputs": [
      {
       "metadata": {},
       "output_type": "pyout",
       "prompt_number": 53,
       "text": [
        "array([[[ 0.,  0.],\n",
        "        [ 0.,  0.],\n",
        "        [ 0.,  0.],\n",
        "        [ 0.,  0.]],\n",
        "\n",
        "       [[ 0.,  0.],\n",
        "        [ 0.,  0.],\n",
        "        [ 0.,  0.],\n",
        "        [ 0.,  0.]],\n",
        "\n",
        "       [[ 0.,  0.],\n",
        "        [ 0.,  0.],\n",
        "        [ 0.,  0.],\n",
        "        [ 0.,  0.]]])"
       ]
      }
     ],
     "prompt_number": 53
    },
    {
     "cell_type": "markdown",
     "metadata": {},
     "source": [
      "We can also take existing arrays and reshape them. So for example, `np.arange` will only create 1D arrays, but we can use the `reshape` method to get a 2D array:"
     ]
    },
    {
     "cell_type": "code",
     "collapsed": false,
     "input": [
      "arr = np.arange(12)\n",
      "print arr"
     ],
     "language": "python",
     "metadata": {},
     "outputs": [
      {
       "output_type": "stream",
       "stream": "stdout",
       "text": [
        "[ 0  1  2  3  4  5  6  7  8  9 10 11]\n"
       ]
      }
     ],
     "prompt_number": 54
    },
    {
     "cell_type": "code",
     "collapsed": false,
     "input": [
      "arr.reshape((4,3))"
     ],
     "language": "python",
     "metadata": {},
     "outputs": [
      {
       "metadata": {},
       "output_type": "pyout",
       "prompt_number": 55,
       "text": [
        "array([[ 0,  1,  2],\n",
        "       [ 3,  4,  5],\n",
        "       [ 6,  7,  8],\n",
        "       [ 9, 10, 11]])"
       ]
      }
     ],
     "prompt_number": 55
    },
    {
     "cell_type": "markdown",
     "metadata": {},
     "source": [
      "## Views vs. Copies\n",
      "\n",
      "Having just played around with reshaping, it's a good time to introduce the concept of views. Many numpy operations, like reshaping, return a view of the memory with a modified stride scheme, rather than a copy. This makes for very efficient manipulation of numpy arrays but can cause confusion when first starting out. "
     ]
    },
    {
     "cell_type": "code",
     "collapsed": false,
     "input": [
      "arr = np.arange(12)\n",
      "arr2 = arr.reshape((3,4))\n",
      "\n",
      "arr[0] = 999\n",
      "print arr\n",
      "print arr2"
     ],
     "language": "python",
     "metadata": {},
     "outputs": [
      {
       "output_type": "stream",
       "stream": "stdout",
       "text": [
        "[999   1   2   3   4   5   6   7   8   9  10  11]\n",
        "[[999   1   2   3]\n",
        " [  4   5   6   7]\n",
        " [  8   9  10  11]]\n"
       ]
      }
     ],
     "prompt_number": 56
    },
    {
     "cell_type": "markdown",
     "metadata": {},
     "source": [
      "In general slicing returns a view, but fancy indexing does not"
     ]
    },
    {
     "cell_type": "code",
     "collapsed": false,
     "input": [
      "np.may_share_memory(arr, arr[::2])"
     ],
     "language": "python",
     "metadata": {},
     "outputs": [
      {
       "metadata": {},
       "output_type": "pyout",
       "prompt_number": 57,
       "text": [
        "True"
       ]
      }
     ],
     "prompt_number": 57
    },
    {
     "cell_type": "code",
     "collapsed": false,
     "input": [
      "np.may_share_memory(arr, arr[[0,1,2,4]])"
     ],
     "language": "python",
     "metadata": {},
     "outputs": [
      {
       "metadata": {},
       "output_type": "pyout",
       "prompt_number": 58,
       "text": [
        "False"
       ]
      }
     ],
     "prompt_number": 58
    },
    {
     "cell_type": "markdown",
     "metadata": {},
     "source": [
      "##Array properties and methods\n",
      "\n",
      "The following methods provide basic information about the size, shape and data in the array:"
     ]
    },
    {
     "cell_type": "code",
     "collapsed": false,
     "input": [
      "arr = np.arange(120).reshape((6,20))\n",
      "\n",
      "print 'Data type                :', arr.dtype\n",
      "print 'Total number of elements :', arr.size\n",
      "print 'Number of dimensions     :', arr.ndim\n",
      "print 'Shape (dimensionality)   :', arr.shape\n",
      "print 'Memory used (in bytes)   :', arr.nbytes"
     ],
     "language": "python",
     "metadata": {},
     "outputs": [
      {
       "output_type": "stream",
       "stream": "stdout",
       "text": [
        "Data type                : int64\n",
        "Total number of elements : 120\n",
        "Number of dimensions     : 2\n",
        "Shape (dimensionality)   : (6, 20)\n",
        "Memory used (in bytes)   : 960\n"
       ]
      }
     ],
     "prompt_number": 59
    },
    {
     "cell_type": "markdown",
     "metadata": {},
     "source": [
      "ndarrays also have a number of other useful methods. For example"
     ]
    },
    {
     "cell_type": "code",
     "collapsed": false,
     "input": [
      "print 'Minimum and maximum             :', arr.min(), arr.max()\n",
      "print 'Sum and product of all elements :', arr.sum(), arr.prod()\n",
      "print 'Mean and standard deviation     :', arr.mean(), arr.std()"
     ],
     "language": "python",
     "metadata": {},
     "outputs": [
      {
       "output_type": "stream",
       "stream": "stdout",
       "text": [
        "Minimum and maximum             : 0 119\n",
        "Sum and product of all elements : 7140 0\n",
        "Mean and standard deviation     : 59.5 34.6398133174\n"
       ]
      }
     ],
     "prompt_number": 60
    },
    {
     "cell_type": "markdown",
     "metadata": {},
     "source": [
      "The above methods calculated quantities for all elements of the array. For multidimensional arrays you can also perform the calculation over a particular axis:"
     ]
    },
    {
     "cell_type": "code",
     "collapsed": false,
     "input": [
      "# Sum across the columns"
     ],
     "language": "python",
     "metadata": {},
     "outputs": [],
     "prompt_number": 61
    },
    {
     "cell_type": "code",
     "collapsed": false,
     "input": [
      "arr.sum(axis=0)"
     ],
     "language": "python",
     "metadata": {},
     "outputs": [
      {
       "metadata": {},
       "output_type": "pyout",
       "prompt_number": 62,
       "text": [
        "array([300, 306, 312, 318, 324, 330, 336, 342, 348, 354, 360, 366, 372,\n",
        "       378, 384, 390, 396, 402, 408, 414])"
       ]
      }
     ],
     "prompt_number": 62
    },
    {
     "cell_type": "code",
     "collapsed": false,
     "input": [
      "# Sum across the rows"
     ],
     "language": "python",
     "metadata": {},
     "outputs": [],
     "prompt_number": 63
    },
    {
     "cell_type": "code",
     "collapsed": false,
     "input": [
      "arr.sum(axis=1)"
     ],
     "language": "python",
     "metadata": {},
     "outputs": [
      {
       "metadata": {},
       "output_type": "pyout",
       "prompt_number": 64,
       "text": [
        "array([ 190,  590,  990, 1390, 1790, 2190])"
       ]
      }
     ],
     "prompt_number": 64
    },
    {
     "cell_type": "markdown",
     "metadata": {},
     "source": [
      "## More array properties\n",
      "\n",
      "We've only covered a few of the most widely used array methods. I recommend checking out the docs, and you can explore the available methods listed below:"
     ]
    },
    {
     "cell_type": "code",
     "collapsed": false,
     "input": [
      "print [x for x in dir(arr) if not x.startswith('__')]"
     ],
     "language": "python",
     "metadata": {},
     "outputs": [
      {
       "output_type": "stream",
       "stream": "stdout",
       "text": [
        "['T', 'all', 'any', 'argmax', 'argmin', 'argpartition', 'argsort', 'astype', 'base', 'byteswap', 'choose', 'clip', 'compress', 'conj', 'conjugate', 'copy', 'ctypes', 'cumprod', 'cumsum', 'data', 'diagonal', 'dot', 'dtype', 'dump', 'dumps', 'fill', 'flags', 'flat', 'flatten', 'getfield', 'imag', 'item', 'itemset', 'itemsize', 'max', 'mean', 'min', 'nbytes', 'ndim', 'newbyteorder', 'nonzero', 'partition', 'prod', 'ptp', 'put', 'ravel', 'real', 'repeat', 'reshape', 'resize', 'round', 'searchsorted', 'setfield', 'setflags', 'shape', 'size', 'sort', 'squeeze', 'std', 'strides', 'sum', 'swapaxes', 'take', 'tofile', 'tolist', 'tostring', 'trace', 'transpose', 'var', 'view']\n"
       ]
      }
     ],
     "prompt_number": 65
    },
    {
     "cell_type": "markdown",
     "metadata": {},
     "source": [
      "##Universal Functions (ufuncs) and Broadcasting\n",
      "\n",
      "ufuncs are methods that operate element-wise on an ndarray."
     ]
    },
    {
     "cell_type": "code",
     "collapsed": false,
     "input": [
      "arr = np.linspace(0, 4*np.pi, 40)\n",
      "np.sin(arr)"
     ],
     "language": "python",
     "metadata": {},
     "outputs": [
      {
       "metadata": {},
       "output_type": "pyout",
       "prompt_number": 66,
       "text": [
        "array([  0.00000000e+00,   3.16667994e-01,   6.00742264e-01,\n",
        "         8.22983866e-01,   9.60518112e-01,   9.99188998e-01,\n",
        "         9.35016243e-01,   7.74604962e-01,   5.34465826e-01,\n",
        "         2.39315664e-01,  -8.04665687e-02,  -3.91966610e-01,\n",
        "        -6.63122658e-01,  -8.66025404e-01,  -9.79790652e-01,\n",
        "        -9.92708874e-01,  -9.03450435e-01,  -7.21202447e-01,\n",
        "        -4.64723172e-01,  -1.60411281e-01,   1.60411281e-01,\n",
        "         4.64723172e-01,   7.21202447e-01,   9.03450435e-01,\n",
        "         9.92708874e-01,   9.79790652e-01,   8.66025404e-01,\n",
        "         6.63122658e-01,   3.91966610e-01,   8.04665687e-02,\n",
        "        -2.39315664e-01,  -5.34465826e-01,  -7.74604962e-01,\n",
        "        -9.35016243e-01,  -9.99188998e-01,  -9.60518112e-01,\n",
        "        -8.22983866e-01,  -6.00742264e-01,  -3.16667994e-01,\n",
        "        -4.89858720e-16])"
       ]
      }
     ],
     "prompt_number": 66
    },
    {
     "cell_type": "code",
     "collapsed": false,
     "input": [
      "plt.plot(arr, np.sin(arr))"
     ],
     "language": "python",
     "metadata": {},
     "outputs": [
      {
       "metadata": {},
       "output_type": "pyout",
       "prompt_number": 67,
       "text": [
        "[<matplotlib.lines.Line2D at 0x10f235510>]"
       ]
      },
      {
       "metadata": {},
       "output_type": "display_data",
       "png": "[encoded data removed]",
       "text": [
        "<matplotlib.figure.Figure at 0x1173d6650>"
       ]
      }
     ],
     "prompt_number": 67
    },
    {
     "cell_type": "markdown",
     "metadata": {},
     "source": [
      "### Available ufuncs\n",
      "\n",
      "A short list of examples, with a complete list available at:\n",
      "\n",
      "http://docs.scipy.org/doc/numpy/reference/ufuncs.html\n",
      "\n",
      "\n",
      "* sin(x[, out])\tTrigonometric sine, element-wise.\n",
      "* cos(x[, out])\tCosine elementwise.\n",
      "* tan(x[, out])\tCompute tangent element-wise.\n",
      "* arcsin(x[, out])\tInverse sine, element-wise.\n",
      "---------\n",
      "\n",
      "* floor(x[, out])\tReturn the floor of the input, element-wise.\n",
      "* ceil(x[, out])\tReturn the ceiling of the input, element-wise.\n",
      "------------\n",
      "\n",
      "* sign(x[, out])\tReturns an element-wise indication of the sign of a number.\n",
      "* conj(x[, out])\tReturn the complex conjugate, element-wise.\n",
      "* exp(x[, out])\tCalculate the exponential of all elements in the input array.\n",
      "* exp2(x[, out])\tCalculate 2**p for all p in the input array.\n",
      "* log(x[, out])\tNatural logarithm, element-wise.\n",
      "* log2(x[, out])\tBase-2 logarithm of x.\n",
      "* log10(x[, out])\tReturn the base 10 logarithm of the input array, element-wise.\n",
      "* expm1(x[, out])\tCalculate exp(x) - 1 for all elements in the array.\n"
     ]
    },
    {
     "cell_type": "markdown",
     "metadata": {},
     "source": [
      "### Arithmetic operations on arrays\n",
      "\n",
      "Arrays support all regular arithmetic operators, and the numpy library also contains a complete collection of basic mathematical functions that operate on arrays. It is important to remember that in general, all operations with arrays are applied element-wise, i.e., are applied to all the elements of the array at the same time."
     ]
    },
    {
     "cell_type": "code",
     "collapsed": false,
     "input": [
      "arr1 = np.arange(4)\n",
      "arr2 = np.arange(10, 14)\n",
      "print arr1, '+', arr2, '=', arr1 + arr2"
     ],
     "language": "python",
     "metadata": {},
     "outputs": [
      {
       "output_type": "stream",
       "stream": "stdout",
       "text": [
        "[0 1 2 3] + [10 11 12 13] = [10 12 14 16]\n"
       ]
      }
     ],
     "prompt_number": 68
    },
    {
     "cell_type": "code",
     "collapsed": false,
     "input": [
      "print arr1, '*', arr2, '=', arr1 * arr2"
     ],
     "language": "python",
     "metadata": {},
     "outputs": [
      {
       "output_type": "stream",
       "stream": "stdout",
       "text": [
        "[0 1 2 3] * [10 11 12 13] = [ 0 11 24 39]\n"
       ]
      }
     ],
     "prompt_number": 69
    },
    {
     "cell_type": "code",
     "collapsed": false,
     "input": [
      "arr1 * 2"
     ],
     "language": "python",
     "metadata": {},
     "outputs": [
      {
       "metadata": {},
       "output_type": "pyout",
       "prompt_number": 70,
       "text": [
        "array([0, 2, 4, 6])"
       ]
      }
     ],
     "prompt_number": 70
    },
    {
     "cell_type": "code",
     "collapsed": false,
     "input": [
      "arr1**3"
     ],
     "language": "python",
     "metadata": {},
     "outputs": [
      {
       "metadata": {},
       "output_type": "pyout",
       "prompt_number": 71,
       "text": [
        "array([ 0,  1,  8, 27])"
       ]
      }
     ],
     "prompt_number": 71
    },
    {
     "cell_type": "markdown",
     "metadata": {},
     "source": [
      "###Speed comparison"
     ]
    },
    {
     "cell_type": "code",
     "collapsed": false,
     "input": [
      "x = np.random.random(10000)"
     ],
     "language": "python",
     "metadata": {},
     "outputs": [],
     "prompt_number": 72
    },
    {
     "cell_type": "code",
     "collapsed": false,
     "input": [
      "%%timeit\n",
      "# compute element-wise x + 1 via a ufunc \n",
      "y = np.zeros_like(x)\n",
      "y = x + 1"
     ],
     "language": "python",
     "metadata": {},
     "outputs": [
      {
       "output_type": "stream",
       "stream": "stdout",
       "text": [
        "10000 loops, best of 3: 25.9 \u00b5s per loop\n"
       ]
      }
     ],
     "prompt_number": 73
    },
    {
     "cell_type": "code",
     "collapsed": false,
     "input": [
      "%%timeit\n",
      "# compute element-wise x + 1 via a loop\n",
      "y = np.zeros_like(x)\n",
      "for i in range(x.shape[0]):\n",
      "    y[i] = x[i] + 1"
     ],
     "language": "python",
     "metadata": {},
     "outputs": [
      {
       "output_type": "stream",
       "stream": "stdout",
       "text": [
        "10 loops, best of 3: 18.9 ms per loop\n"
       ]
      }
     ],
     "prompt_number": 74
    },
    {
     "cell_type": "markdown",
     "metadata": {},
     "source": [
      "## A side note on matrix multiplication: `np.dot`\n",
      "\n",
      "As we've seen, numpy multiplies arrays element-wise. Unlike a language like Matlab, there isn't a special notation to distingish element-wise vs matrix multiplication (yet). To perform matrix multiplication in the linear algebra sense, we need to use `np.dot`"
     ]
    },
    {
     "cell_type": "code",
     "collapsed": false,
     "input": [
      "a = np.arange(12).reshape(4,3)\n",
      "b = np.arange(6).reshape(3,2)\n",
      "np.dot(a,b)"
     ],
     "language": "python",
     "metadata": {},
     "outputs": [
      {
       "metadata": {},
       "output_type": "pyout",
       "prompt_number": 75,
       "text": [
        "array([[10, 13],\n",
        "       [28, 40],\n",
        "       [46, 67],\n",
        "       [64, 94]])"
       ]
      }
     ],
     "prompt_number": 75
    },
    {
     "cell_type": "markdown",
     "metadata": {},
     "source": [
      "## General Broadcasting\n",
      "\n",
      "Although numpy performs arithmetic operations element-wise, the arrays you are operating on do not have to have the same dimensionality. Numpy will *broadcast* dimensions when possible. This can get a little tricky and the rules are not necessarily intuitive. A simple example might be to add an array with shape (3,3) to an array with shape (3,)"
     ]
    },
    {
     "cell_type": "code",
     "collapsed": false,
     "input": [
      "np.ones((3,3)) + np.arange(3)"
     ],
     "language": "python",
     "metadata": {},
     "outputs": [
      {
       "metadata": {},
       "output_type": "pyout",
       "prompt_number": 76,
       "text": [
        "array([[ 1.,  2.,  3.],\n",
        "       [ 1.,  2.,  3.],\n",
        "       [ 1.,  2.,  3.]])"
       ]
      }
     ],
     "prompt_number": 76
    },
    {
     "cell_type": "markdown",
     "metadata": {},
     "source": [
      "- If the two arrays differ in their number of dimensions, the shape of the array with fewer dimensions is padded with ones on its leading (left) side.\n",
      "\n",
      "- If the shape of the two arrays does not match in any dimension, the array with shape equal to 1 in that dimension is stretched to match the other shape.\n",
      "\n",
      "- If in any dimension the sizes disagree and neither is equal to 1, an error is raised.\n",
      "\n",
      "So in the above example the second array is:\n",
      "\n",
      "1. promoted to an array of shape (1,3)\n",
      "2. replicated along its first dimension to match the first array\n",
      "\n",
      "When this happens there aren't any copies of the data actually being made. Numpy does this efficiently in C code so generally it is extremely fast. \n",
      "\n",
      "This can be visualized as below:"
     ]
    },
    {
     "cell_type": "markdown",
     "metadata": {},
     "source": [
      "<img src=\"files/images/fig_broadcast_visual_1.png\" />\n",
      "\n",
      "<small>Source: http://www.astroml.org/book_figures/appendix/fig_broadcast_visual.html</small>"
     ]
    },
    {
     "cell_type": "markdown",
     "metadata": {},
     "source": [
      "# A brief overview of SciPy\n",
      "\n",
      "SciPy is a collection of mathematical algorithms for manipulating data akin to Matlab, IDL, Octave, etc. and is comprised of the following packages:"
     ]
    },
    {
     "cell_type": "code",
     "collapsed": false,
     "input": [
      "from IPython.display import HTML\n",
      "HTML('<iframe src=http://docs.scipy.org/doc/scipy/reference/#reference width=700 height=500></iframe>')"
     ],
     "language": "python",
     "metadata": {},
     "outputs": [
      {
       "html": [
        "<iframe src=http://docs.scipy.org/doc/scipy/reference/#reference width=700 height=500></iframe>"
       ],
       "metadata": {},
       "output_type": "pyout",
       "prompt_number": 77,
       "text": [
        "<IPython.core.display.HTML at 0x10f2392d0>"
       ]
      }
     ],
     "prompt_number": 77
    },
    {
     "cell_type": "markdown",
     "metadata": {},
     "source": [
      "As a simple example, let's say we want to solve the Lorenz equations, which are a system of three coupled, first-order, nonlinear differential equations\n",
      "\n",
      "$$dx/dt = \\sigma(y - x)$$\n",
      "$$dy/dt = x(\\rho - z) - y$$\n",
      "$$dz/dt = xy - {\\beta}z$$\n",
      "\n",
      "We can solve the time dependence of these equations using SciPy's `integrate` package which calls on [ODEPACK](http://computation.llnl.gov/casc/odepack/odepack_home.html), an optimized ODE solver written in Fortran. "
     ]
    },
    {
     "cell_type": "code",
     "collapsed": false,
     "input": [
      "from scipy import integrate\n",
      "\n",
      "def lorentz_deriv((x, y, z), t0, sigma=10., beta=8./3, rho=28.0):\n",
      "    \"\"\"Compute the time-derivative of a Lorenz system.\"\"\"\n",
      "    return [sigma * (y - x), x * (rho - z) - y, x * y - beta * z]\n",
      "\n",
      "# Note: t0 is required for the odeint function, though it's not used here.\n",
      "x0 = [1, 1, 1]  # starting vector\n",
      "t = np.linspace(0, 96, 32000) \n",
      "x_t = integrate.odeint(lorentz_deriv, x0, t)"
     ],
     "language": "python",
     "metadata": {},
     "outputs": [],
     "prompt_number": 78
    },
    {
     "cell_type": "markdown",
     "metadata": {},
     "source": [
      "Now let's visualize the trajectory using Matplotlib"
     ]
    },
    {
     "cell_type": "code",
     "collapsed": false,
     "input": [
      "from mpl_toolkits.mplot3d import Axes3D\n",
      "\n",
      "fig = plt.figure(figsize=(10,10))\n",
      "ax = fig.add_subplot(111, projection='3d')\n",
      "ax.plot(x_t[:,0], x_t[:,1], x_t[:,2])"
     ],
     "language": "python",
     "metadata": {},
     "outputs": [
      {
       "metadata": {},
       "output_type": "pyout",
       "prompt_number": 79,
       "text": [
        "[<mpl_toolkits.mplot3d.art3d.Line3D at 0x10df20d50>]"
       ]
      },
      {
       "metadata": {},
       "output_type": "display_data",
       "png": "[encoded data removed]",
       "text": [
        "<matplotlib.figure.Figure at 0x10f23b6d0>"
       ]
      }
     ],
     "prompt_number": 79
    },
    {
     "cell_type": "markdown",
     "metadata": {},
     "source": [
      "This example was adapted from Jake VanderPlas's excellent [blog post](http://jakevdp.github.io/blog/2013/02/16/animating-the-lorentz-system-in-3d/) where he also shows how to make animated versions of the dynamics using Matplotlib that look like:"
     ]
    },
    {
     "cell_type": "code",
     "collapsed": false,
     "input": [
      "HTML('<iframe src=http://jakevdp.github.io/downloads/videos/lorentz_attractor.mp4 width=600 height=600></iframe>')"
     ],
     "language": "python",
     "metadata": {},
     "outputs": [
      {
       "html": [
        "<iframe src=http://jakevdp.github.io/downloads/videos/lorentz_attractor.mp4 width=600 height=600></iframe>"
       ],
       "metadata": {},
       "output_type": "pyout",
       "prompt_number": 80,
       "text": [
        "<IPython.core.display.HTML at 0x1173ded10>"
       ]
      }
     ],
     "prompt_number": 80
    },
    {
     "cell_type": "markdown",
     "metadata": {},
     "source": [
      "# Additional resources\n",
      "\n",
      "Material in this notebook borrowed heavily and in some places copied nearly verbatim from several excellent resources on the web, which I recommend heavily:\n",
      "\n",
      "- Anything written by Jake VanderPlas. This notebook was based mostly on his \"Scientific Computing with Python\" lecture on Numpy:\n",
      "\n",
      "http://www.astro.washington.edu/users/vanderplas/Astr599/schedule\n",
      "\n",
      "- Jake's blog is also a source of constant inspiration:\n",
      "\n",
      "http://jakevdp.github.io/\n",
      "\n",
      "- The **Python Scientific Lecture Notes** are also an excellent source of basic information to get you started, as well as more advanced content:\n",
      "\n",
      "http://scipy-lectures.github.io/\n",
      "\n",
      "\n",
      "- Perusing the NumPy and Scipy documentation is of course invaluable:\n",
      "\n",
      "http://docs.scipy.org/doc/numpy/reference/\n",
      "\n",
      "http://docs.scipy.org/doc/scipy/reference/"
     ]
    }
   ],
   "metadata": {}
  }
 ]
}
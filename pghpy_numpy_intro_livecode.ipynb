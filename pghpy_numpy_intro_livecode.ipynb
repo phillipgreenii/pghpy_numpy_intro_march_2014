{
 "metadata": {
  "name": ""
 },
 "nbformat": 3,
 "nbformat_minor": 0,
 "worksheets": [
  {
   "cells": [
    {
     "cell_type": "markdown",
     "metadata": {
      "slideshow": {
       "slide_type": "-"
      }
     },
     "source": [
      "# An introduction to Numpy and the scientific python ecosystem\n",
      "##*PghPy Meetup - March 26, 2014*"
     ]
    },
    {
     "cell_type": "markdown",
     "metadata": {
      "slideshow": {
       "slide_type": "-"
      }
     },
     "source": [
      "## Who am I?\n",
      "\n",
      "Computational Biophysicist :: Research Assistant Professor, Department of Biological Sciences at Pitt\n",
      "\n",
      "- github/twitter: @synapticarbors\n",
      "\n",
      "<img src=\"files/images/vsglt_water.png\" width=\"40%\" height=\"40%\"/>\n",
      "\n",
      "<img src=\"files/images/westpa.png\"> \n",
      "<img src=\"files/images/westpa_scaling.png\" width=\"30%\" height=\"30%\"> \n",
      "\n",
      "Weighted Ensemble Sampling Toolkit with Parallelization and Analysis\n",
      "(co-developer)"
     ]
    },
    {
     "cell_type": "markdown",
     "metadata": {},
     "source": [
      "## An overview of the Python Scientific Stack\n",
      "\n",
      "<img src=\"files/images/ecosystem.001.png\" width=\"85%\" height=\"85%\"/>"
     ]
    },
    {
     "cell_type": "markdown",
     "metadata": {},
     "source": [
      "# Widespread use of NumPy\n",
      "\n",
      "Survey of module imports in code hosted by Github collected in PEP 465 used to argue for the addition of a matrix multiplication operator in python:\n",
      "http://legacy.python.org/dev/peps/pep-0465/"
     ]
    },
    {
     "cell_type": "raw",
     "metadata": {},
     "source": [
      "Count of Python source files on Github matching given search terms\n",
      "                 (as of 2014-04-10, ~21:00 UTC)\n",
      "================ ==========  ===============  =======  ===========\n",
      "module           \"import X\"  \"from X import\"    total  total/numpy\n",
      "================ ==========  ===============  =======  ===========\n",
      "sys                 2374638            63301  2437939         5.85\n",
      "os                  1971515            37571  2009086         4.82\n",
      "re                  1294651             8358  1303009         3.12\n",
      "numpy ************** 337916 ********** 79065 * 416981 ******* 1.00\n",
      "warnings             298195            73150   371345         0.89\n",
      "subprocess           281290            63644   344934         0.83\n",
      "django                62795           219302   282097         0.68\n",
      "math                 200084            81903   281987         0.68\n",
      "threading            212302            45423   257725         0.62\n",
      "pickle+cPickle       215349            22672   238021         0.57\n",
      "matplotlib           119054            27859   146913         0.35\n",
      "sqlalchemy            29842            82850   112692         0.27\n",
      "pylab *************** 36754 ********** 41063 ** 77817 ******* 0.19\n",
      "scipy *************** 40829 ********** 28263 ** 69092 ******* 0.17\n",
      "lxml                  19026            38061    57087         0.14\n",
      "zlib                  40486             6623    47109         0.11\n",
      "multiprocessing       25247            19850    45097         0.11\n",
      "requests              30896              560    31456         0.08\n",
      "jinja2                 8057            24047    32104         0.08\n",
      "twisted               13858             6404    20262         0.05\n",
      "gevent                11309             8529    19838         0.05\n",
      "pandas ************** 14923 *********** 4005 ** 18928 ******* 0.05\n",
      "sympy                  2779             9537    12316         0.03\n",
      "theano *************** 3654 *********** 1828 *** 5482 ******* 0.01\n",
      "================ ==========  ===============  =======  ==========="
     ]
    },
    {
     "cell_type": "markdown",
     "metadata": {},
     "source": [
      "# A quick introduction to IPython"
     ]
    },
    {
     "cell_type": "markdown",
     "metadata": {},
     "source": [
      "##Getting Help\n",
      "\n",
      "You can get help info/the docstring for a method using either:"
     ]
    },
    {
     "cell_type": "code",
     "collapsed": true,
     "input": [],
     "language": "python",
     "metadata": {},
     "outputs": []
    },
    {
     "cell_type": "code",
     "collapsed": false,
     "input": [],
     "language": "python",
     "metadata": {},
     "outputs": []
    },
    {
     "cell_type": "markdown",
     "metadata": {},
     "source": [
      "## Markdown and LaTex"
     ]
    },
    {
     "cell_type": "markdown",
     "metadata": {},
     "source": [
      "The IPython notebook supports rich text via Markdown and mathematical expressions using [MathJax](http://www.mathjax.org/)"
     ]
    },
    {
     "cell_type": "markdown",
     "metadata": {},
     "source": [
      "  "
     ]
    },
    {
     "cell_type": "markdown",
     "metadata": {},
     "source": [
      "## Magic\n",
      "\n",
      "IPython has a system of commands called 'magics' that add additional functionality to IPython. Magics come in two kinds:\n",
      "\n",
      "- Line magics: these are commands prepended by one % character and whose arguments only extend to the end of the current line.\n",
      "- Cell magics: these use two percent characters as a marker (%%), and they receive as argument both the current line where they are declared and the whole body of the cell. "
     ]
    },
    {
     "cell_type": "code",
     "collapsed": false,
     "input": [
      "%lsmagic"
     ],
     "language": "python",
     "metadata": {},
     "outputs": []
    },
    {
     "cell_type": "code",
     "collapsed": false,
     "input": [],
     "language": "python",
     "metadata": {},
     "outputs": []
    },
    {
     "cell_type": "code",
     "collapsed": false,
     "input": [],
     "language": "python",
     "metadata": {},
     "outputs": []
    },
    {
     "cell_type": "markdown",
     "metadata": {},
     "source": [
      "## Call out to the shell\n",
      "\n",
      "We can make shell calls by pre-pending the usual command with `!`. So for example, in a posix-like environment"
     ]
    },
    {
     "cell_type": "code",
     "collapsed": false,
     "input": [],
     "language": "python",
     "metadata": {},
     "outputs": []
    },
    {
     "cell_type": "markdown",
     "metadata": {},
     "source": [
      "##Inline Plotting\n",
      "\n",
      "Using the matplotlib magic, we can tell IPython to embded plots inside the notebook. This also works in the IPython qtconsole. "
     ]
    },
    {
     "cell_type": "code",
     "collapsed": false,
     "input": [],
     "language": "python",
     "metadata": {},
     "outputs": []
    },
    {
     "cell_type": "code",
     "collapsed": false,
     "input": [],
     "language": "python",
     "metadata": {},
     "outputs": []
    },
    {
     "cell_type": "markdown",
     "metadata": {},
     "source": [
      "## Mind blown\n",
      "\n",
      "There are IPython magic functions that allow one to call other languages from the notebook and caputre variables and figures. Below is an example for R, but similar functionality exists for Octave, Julia, Ruby, etc. For this example to work, you'll need a copy of R on your machine as well as rpy2."
     ]
    },
    {
     "cell_type": "code",
     "collapsed": false,
     "input": [
      "import numpy as np"
     ],
     "language": "python",
     "metadata": {},
     "outputs": []
    },
    {
     "cell_type": "code",
     "collapsed": false,
     "input": [
      "%load_ext rmagic"
     ],
     "language": "python",
     "metadata": {},
     "outputs": []
    },
    {
     "cell_type": "code",
     "collapsed": false,
     "input": [
      "x = np.arange(100)\n",
      "y = 3 * np.arange(100) + np.random.normal(size=(100,), scale=12)"
     ],
     "language": "python",
     "metadata": {},
     "outputs": []
    },
    {
     "cell_type": "code",
     "collapsed": false,
     "input": [
      "%%R -i x,y -o xylm_coef\n",
      "xylm = lm(y~x)\n",
      "print(summary(xylm))\n",
      "plot(y~x)\n",
      "par(col=\"red\", lwd=2)\n",
      "abline(xylm)\n",
      "xylm_coef = coef(xylm)"
     ],
     "language": "python",
     "metadata": {},
     "outputs": []
    },
    {
     "cell_type": "code",
     "collapsed": false,
     "input": [
      "xylm_coef"
     ],
     "language": "python",
     "metadata": {},
     "outputs": []
    },
    {
     "cell_type": "markdown",
     "metadata": {},
     "source": [
      "# The Numpy ndarray"
     ]
    },
    {
     "cell_type": "markdown",
     "metadata": {},
     "source": [
      "## What is it?\n",
      "\n",
      "\u2192 block of memory + indexing scheme + data type descriptor\n",
      "\n",
      "- a reference to raw data\n",
      "- how to locate an element in the array\n",
      "- how to interpret an element in the array\n",
      "\n",
      "<img src=\"files/images/dtype.png\"/>\n",
      "\n",
      "\n",
      "\u2192 Attributes\n",
      "\n",
      "- data : memory location\n",
      "- shape : size of each dimension\n",
      "- itemsize : size of each element\n",
      "- strides : how to move through memory in each direction\n",
      "- dtype : data type of the elements\n"
     ]
    },
    {
     "cell_type": "markdown",
     "metadata": {},
     "source": [
      "## Importing NumPy"
     ]
    },
    {
     "cell_type": "code",
     "collapsed": false,
     "input": [],
     "language": "python",
     "metadata": {},
     "outputs": []
    },
    {
     "cell_type": "markdown",
     "metadata": {},
     "source": [
      "## Creating Arrays\n",
      "\n",
      "We will start by creating a simple python list and an array with the same content"
     ]
    },
    {
     "cell_type": "code",
     "collapsed": false,
     "input": [],
     "language": "python",
     "metadata": {},
     "outputs": []
    },
    {
     "cell_type": "markdown",
     "metadata": {},
     "source": [
      "### dtypes\n",
      "\n",
      "We didn't specify the type of the data, but numpy intuited it from the contents of `lst`"
     ]
    },
    {
     "cell_type": "code",
     "collapsed": false,
     "input": [],
     "language": "python",
     "metadata": {},
     "outputs": []
    },
    {
     "cell_type": "markdown",
     "metadata": {},
     "source": [
      "We could also set it explicitly, for example to a 32 bit float"
     ]
    },
    {
     "cell_type": "code",
     "collapsed": false,
     "input": [],
     "language": "python",
     "metadata": {},
     "outputs": []
    },
    {
     "cell_type": "markdown",
     "metadata": {},
     "source": [
      "##Accessing elements\n",
      "\n"
     ]
    },
    {
     "cell_type": "markdown",
     "metadata": {},
     "source": [
      "###Single Elements\n",
      "\n",
      "Elements of a 1d array are accessed in the same way as a regular python list"
     ]
    },
    {
     "cell_type": "code",
     "collapsed": false,
     "input": [],
     "language": "python",
     "metadata": {},
     "outputs": []
    },
    {
     "cell_type": "markdown",
     "metadata": {},
     "source": [
      "###Slices\n",
      "\n",
      "Slicing follows the same syntax `start:stop:stride`"
     ]
    },
    {
     "cell_type": "code",
     "collapsed": false,
     "input": [],
     "language": "python",
     "metadata": {},
     "outputs": []
    },
    {
     "cell_type": "markdown",
     "metadata": {},
     "source": [
      "## Creating arrays\n",
      "\n",
      "While you can create an array from an existing list, numpy provides a number of other routines. If you are familiar with Matlab, some of these will be familiar."
     ]
    },
    {
     "cell_type": "code",
     "collapsed": false,
     "input": [],
     "language": "python",
     "metadata": {},
     "outputs": []
    },
    {
     "cell_type": "markdown",
     "metadata": {},
     "source": [
      "### Initializing Numpy arrays filled with sequences"
     ]
    },
    {
     "cell_type": "code",
     "collapsed": false,
     "input": [],
     "language": "python",
     "metadata": {},
     "outputs": []
    },
    {
     "cell_type": "markdown",
     "metadata": {},
     "source": [
      "Full list of array creation routines:\n",
      "http://docs.scipy.org/doc/numpy/reference/routines.array-creation.html"
     ]
    },
    {
     "cell_type": "markdown",
     "metadata": {},
     "source": [
      "### Creating random arrays\n",
      "\n",
      "Numpy provides a number of routines to provide arrays with elements drawn from a random distribution via the `np.random` module"
     ]
    },
    {
     "cell_type": "code",
     "collapsed": false,
     "input": [],
     "language": "python",
     "metadata": {},
     "outputs": []
    },
    {
     "cell_type": "markdown",
     "metadata": {},
     "source": [
      "And we can visualize the distribution using a histogram in Matplotlib"
     ]
    },
    {
     "cell_type": "code",
     "collapsed": false,
     "input": [],
     "language": "python",
     "metadata": {},
     "outputs": []
    },
    {
     "cell_type": "markdown",
     "metadata": {},
     "source": [
      "## Differences between numpy arrays and python lists\n",
      "\n",
      "Numpy arrays are homogeneous (all elements are of the same type), whereas a python list is a generic container for arbitrary mixed types"
     ]
    },
    {
     "cell_type": "code",
     "collapsed": false,
     "input": [],
     "language": "python",
     "metadata": {},
     "outputs": []
    },
    {
     "cell_type": "code",
     "collapsed": false,
     "input": [],
     "language": "python",
     "metadata": {},
     "outputs": []
    },
    {
     "cell_type": "markdown",
     "metadata": {},
     "source": [
      "###Indexing with other arrays\n",
      "\n",
      "While you can index and extract elements of a python list with slices or single indices, ndarrays have a much more sophisticated and powerful indexing interface"
     ]
    },
    {
     "cell_type": "code",
     "collapsed": false,
     "input": [],
     "language": "python",
     "metadata": {},
     "outputs": []
    },
    {
     "cell_type": "markdown",
     "metadata": {},
     "source": [
      "#### Fancy indexing\n",
      "\n",
      "Besides boolean arrays of the same size as the original array, we can also index with smaller arrays or lists containing the elements that we want. "
     ]
    },
    {
     "cell_type": "code",
     "collapsed": false,
     "input": [],
     "language": "python",
     "metadata": {},
     "outputs": []
    },
    {
     "cell_type": "markdown",
     "metadata": {},
     "source": [
      "## Arrays with more than one dimension\n",
      "\n",
      "While all of our examples thus far have involved 1D arrays, we can use Numpy to create arrays with arbitrary numbers of dimensions. As before, we can initialize an array from a list, but this time we'll use a list of lists"
     ]
    },
    {
     "cell_type": "code",
     "collapsed": false,
     "input": [],
     "language": "python",
     "metadata": {},
     "outputs": []
    },
    {
     "cell_type": "markdown",
     "metadata": {},
     "source": [
      "While a list of lists requires you to drill down using multiple calls to the `[...]` operator, numpy uses a more compact notation with a single set of brackets"
     ]
    },
    {
     "cell_type": "code",
     "collapsed": false,
     "input": [],
     "language": "python",
     "metadata": {},
     "outputs": []
    },
    {
     "cell_type": "markdown",
     "metadata": {},
     "source": [
      "The list-type syntax is allowed, but is much less efficient"
     ]
    },
    {
     "cell_type": "code",
     "collapsed": false,
     "input": [],
     "language": "python",
     "metadata": {},
     "outputs": []
    },
    {
     "cell_type": "markdown",
     "metadata": {},
     "source": [
      "Using a single index with a multi-dimensional array gives you a slice along the first dimension"
     ]
    },
    {
     "cell_type": "code",
     "collapsed": false,
     "input": [],
     "language": "python",
     "metadata": {},
     "outputs": []
    },
    {
     "cell_type": "markdown",
     "metadata": {},
     "source": [
      "The `:` operator can be used to get slices along different dimensions. Notice here that you don't get a column vector back here."
     ]
    },
    {
     "cell_type": "code",
     "collapsed": false,
     "input": [],
     "language": "python",
     "metadata": {},
     "outputs": []
    },
    {
     "cell_type": "markdown",
     "metadata": {},
     "source": [
      "### Multi-dimensional array creation from functions and other arrays\n",
      "\n",
      "Many of the array creation routines that we saw before can also create multidimensional arrays"
     ]
    },
    {
     "cell_type": "code",
     "collapsed": false,
     "input": [],
     "language": "python",
     "metadata": {},
     "outputs": []
    },
    {
     "cell_type": "markdown",
     "metadata": {},
     "source": [
      "We can also take existing arrays and reshape them. So for example, `np.arange` will only create 1D arrays, but we can use the `reshape` method to get a 2D array:"
     ]
    },
    {
     "cell_type": "code",
     "collapsed": false,
     "input": [],
     "language": "python",
     "metadata": {},
     "outputs": []
    },
    {
     "cell_type": "markdown",
     "metadata": {},
     "source": [
      "## Views vs. Copies\n",
      "\n",
      "Having just played around with reshaping, it's a good time to introduce the concept of views. Many numpy operations, like reshaping, return a view of the memory with a modified stride scheme, rather than a copy. This makes for very efficient manipulation of numpy arrays but can cause confusion when first starting out. "
     ]
    },
    {
     "cell_type": "code",
     "collapsed": false,
     "input": [],
     "language": "python",
     "metadata": {},
     "outputs": []
    },
    {
     "cell_type": "markdown",
     "metadata": {},
     "source": [
      "In general slicing returns a view, but fancy indexing does not"
     ]
    },
    {
     "cell_type": "code",
     "collapsed": false,
     "input": [],
     "language": "python",
     "metadata": {},
     "outputs": []
    },
    {
     "cell_type": "code",
     "collapsed": false,
     "input": [],
     "language": "python",
     "metadata": {},
     "outputs": []
    },
    {
     "cell_type": "markdown",
     "metadata": {},
     "source": [
      "##Array properties and methods\n",
      "\n",
      "The following methods provide basic information about the size, shape and data in the array:"
     ]
    },
    {
     "cell_type": "code",
     "collapsed": false,
     "input": [
      "arr = np.arange(120).reshape((6,20))\n",
      "\n",
      "print 'Data type                :', arr.dtype\n",
      "print 'Total number of elements :', arr.size\n",
      "print 'Number of dimensions     :', arr.ndim\n",
      "print 'Shape (dimensionality)   :', arr.shape\n",
      "print 'Memory used (in bytes)   :', arr.nbytes"
     ],
     "language": "python",
     "metadata": {},
     "outputs": []
    },
    {
     "cell_type": "markdown",
     "metadata": {},
     "source": [
      "ndarrays also have a number of other useful methods. For example"
     ]
    },
    {
     "cell_type": "code",
     "collapsed": false,
     "input": [
      "print 'Minimum and maximum             :', arr.min(), arr.max()\n",
      "print 'Sum and product of all elements :', arr.sum(), arr.prod()\n",
      "print 'Mean and standard deviation     :', arr.mean(), arr.std()"
     ],
     "language": "python",
     "metadata": {},
     "outputs": []
    },
    {
     "cell_type": "markdown",
     "metadata": {},
     "source": [
      "The above methods calculated quantities for all elements of the array. For multidimensional arrays you can also perform the calculation over a particular axis:"
     ]
    },
    {
     "cell_type": "code",
     "collapsed": false,
     "input": [
      "# Sum across the columns"
     ],
     "language": "python",
     "metadata": {},
     "outputs": []
    },
    {
     "cell_type": "code",
     "collapsed": false,
     "input": [],
     "language": "python",
     "metadata": {},
     "outputs": []
    },
    {
     "cell_type": "code",
     "collapsed": false,
     "input": [
      "# Sum across the rows"
     ],
     "language": "python",
     "metadata": {},
     "outputs": []
    },
    {
     "cell_type": "code",
     "collapsed": false,
     "input": [],
     "language": "python",
     "metadata": {},
     "outputs": []
    },
    {
     "cell_type": "markdown",
     "metadata": {},
     "source": [
      "## More array properties\n",
      "\n",
      "We've only covered a few of the most widely used array methods. I recommend checking out the docs, and you can explore the available methods listed below:"
     ]
    },
    {
     "cell_type": "code",
     "collapsed": false,
     "input": [
      "print [x for x in dir(arr) if not x.startswith('__')]"
     ],
     "language": "python",
     "metadata": {},
     "outputs": []
    },
    {
     "cell_type": "markdown",
     "metadata": {},
     "source": [
      "##Universal Functions (ufuncs) and Broadcasting\n",
      "\n",
      "ufuncs are methods that operate element-wise on an ndarray."
     ]
    },
    {
     "cell_type": "code",
     "collapsed": false,
     "input": [],
     "language": "python",
     "metadata": {},
     "outputs": []
    },
    {
     "cell_type": "code",
     "collapsed": false,
     "input": [],
     "language": "python",
     "metadata": {},
     "outputs": []
    },
    {
     "cell_type": "markdown",
     "metadata": {},
     "source": [
      "### Available ufuncs\n",
      "\n",
      "A short list of examples, with a complete list available at:\n",
      "\n",
      "http://docs.scipy.org/doc/numpy/reference/ufuncs.html\n",
      "\n",
      "\n",
      "* sin(x[, out])\tTrigonometric sine, element-wise.\n",
      "* cos(x[, out])\tCosine elementwise.\n",
      "* tan(x[, out])\tCompute tangent element-wise.\n",
      "* arcsin(x[, out])\tInverse sine, element-wise.\n",
      "---------\n",
      "\n",
      "* floor(x[, out])\tReturn the floor of the input, element-wise.\n",
      "* ceil(x[, out])\tReturn the ceiling of the input, element-wise.\n",
      "------------\n",
      "\n",
      "* sign(x[, out])\tReturns an element-wise indication of the sign of a number.\n",
      "* conj(x[, out])\tReturn the complex conjugate, element-wise.\n",
      "* exp(x[, out])\tCalculate the exponential of all elements in the input array.\n",
      "* exp2(x[, out])\tCalculate 2**p for all p in the input array.\n",
      "* log(x[, out])\tNatural logarithm, element-wise.\n",
      "* log2(x[, out])\tBase-2 logarithm of x.\n",
      "* log10(x[, out])\tReturn the base 10 logarithm of the input array, element-wise.\n",
      "* expm1(x[, out])\tCalculate exp(x) - 1 for all elements in the array.\n"
     ]
    },
    {
     "cell_type": "markdown",
     "metadata": {},
     "source": [
      "### Arithmetic operations on arrays\n",
      "\n",
      "Arrays support all regular arithmetic operators, and the numpy library also contains a complete collection of basic mathematical functions that operate on arrays. It is important to remember that in general, all operations with arrays are applied element-wise, i.e., are applied to all the elements of the array at the same time."
     ]
    },
    {
     "cell_type": "code",
     "collapsed": false,
     "input": [],
     "language": "python",
     "metadata": {},
     "outputs": []
    },
    {
     "cell_type": "markdown",
     "metadata": {},
     "source": [
      "###Speed comparison"
     ]
    },
    {
     "cell_type": "code",
     "collapsed": false,
     "input": [
      "x = np.random.random(10000)"
     ],
     "language": "python",
     "metadata": {},
     "outputs": []
    },
    {
     "cell_type": "code",
     "collapsed": false,
     "input": [
      "%%timeit\n",
      "# compute element-wise x + 1 via a ufunc \n",
      "y = np.zeros_like(x)\n",
      "y = x + 1"
     ],
     "language": "python",
     "metadata": {},
     "outputs": []
    },
    {
     "cell_type": "code",
     "collapsed": false,
     "input": [
      "%%timeit\n",
      "# compute element-wise x + 1 via a loop\n",
      "y = np.zeros_like(x)\n",
      "for i in range(x.shape[0]):\n",
      "    y[i] = x[i] + 1"
     ],
     "language": "python",
     "metadata": {},
     "outputs": []
    },
    {
     "cell_type": "markdown",
     "metadata": {},
     "source": [
      "## A side note on matrix multiplication: `np.dot`\n",
      "\n",
      "As we've seen, numpy multiplies arrays element-wise. Unlike a language like Matlab, there isn't a special notation to distingish element-wise vs matrix multiplication (yet). To perform matrix multiplication in the linear algebra sense, we need to use `np.dot`"
     ]
    },
    {
     "cell_type": "code",
     "collapsed": false,
     "input": [
      "a = np.arange(12).reshape(4,3)\n",
      "b = np.arange(6).reshape(3,2)\n",
      "np.dot(a,b)"
     ],
     "language": "python",
     "metadata": {},
     "outputs": []
    },
    {
     "cell_type": "markdown",
     "metadata": {},
     "source": [
      "## General Broadcasting\n",
      "\n",
      "Although numpy performs arithmetic operations element-wise, the arrays you are operating on do not have to have the same dimensionality. Numpy will *broadcast* dimensions when possible. This can get a little tricky and the rules are not necessarily intuitive. A simple example might be to add an array with shape (3,3) to an array with shape (3,)"
     ]
    },
    {
     "cell_type": "code",
     "collapsed": false,
     "input": [
      "np.ones((3,3)) + np.arange(3)"
     ],
     "language": "python",
     "metadata": {},
     "outputs": []
    },
    {
     "cell_type": "markdown",
     "metadata": {},
     "source": [
      "- If the two arrays differ in their number of dimensions, the shape of the array with fewer dimensions is padded with ones on its leading (left) side.\n",
      "\n",
      "- If the shape of the two arrays does not match in any dimension, the array with shape equal to 1 in that dimension is stretched to match the other shape.\n",
      "\n",
      "- If in any dimension the sizes disagree and neither is equal to 1, an error is raised.\n",
      "\n",
      "So in the above example the second array is:\n",
      "\n",
      "1. promoted to an array of shape (1,3)\n",
      "2. replicated along its first dimension to match the first array\n",
      "\n",
      "When this happens there aren't any copies of the data actually being made. Numpy does this efficiently in C code so generally it is extremely fast. \n",
      "\n",
      "This can be visualized as below:"
     ]
    },
    {
     "cell_type": "markdown",
     "metadata": {},
     "source": [
      "<img src=\"files/images/fig_broadcast_visual_1.png\" />\n",
      "\n",
      "<small>Source: http://www.astroml.org/book_figures/appendix/fig_broadcast_visual.html</small>"
     ]
    },
    {
     "cell_type": "markdown",
     "metadata": {},
     "source": [
      "# A brief overview of SciPy\n",
      "\n",
      "SciPy is a collection of mathematical algorithms for manipulating data akin to Matlab, IDL, Octave, etc. and is comprised of the following packages:"
     ]
    },
    {
     "cell_type": "code",
     "collapsed": false,
     "input": [
      "from IPython.display import HTML\n",
      "HTML('<iframe src=http://docs.scipy.org/doc/scipy/reference/#reference width=700 height=500></iframe>')"
     ],
     "language": "python",
     "metadata": {},
     "outputs": []
    },
    {
     "cell_type": "markdown",
     "metadata": {},
     "source": [
      "As a simple example, let's say we want to solve the Lorenz equations, which are a system of three coupled, first-order, nonlinear differential equations\n",
      "\n",
      "$$dx/dt = \\sigma(y - x)$$\n",
      "$$dy/dt = x(\\rho - z) - y$$\n",
      "$$dz/dt = xy - {\\beta}z$$\n",
      "\n",
      "We can solve the time dependence of these equations using SciPy's `integrate` package which calls on [ODEPACK](http://computation.llnl.gov/casc/odepack/odepack_home.html), an optimized ODE solver written in Fortran. "
     ]
    },
    {
     "cell_type": "code",
     "collapsed": false,
     "input": [
      "from scipy import integrate\n",
      "\n",
      "def lorentz_deriv((x, y, z), t0, sigma=10., beta=8./3, rho=28.0):\n",
      "    \"\"\"Compute the time-derivative of a Lorenz system.\"\"\"\n",
      "    return [sigma * (y - x), x * (rho - z) - y, x * y - beta * z]\n",
      "\n",
      "# Note: t0 is required for the odeint function, though it's not used here.\n",
      "x0 = [1, 1, 1]  # starting vector\n",
      "t = np.linspace(0, 96, 32000) \n",
      "x_t = integrate.odeint(lorentz_deriv, x0, t)"
     ],
     "language": "python",
     "metadata": {},
     "outputs": []
    },
    {
     "cell_type": "markdown",
     "metadata": {},
     "source": [
      "Now let's visualize the trajectory using Matplotlib"
     ]
    },
    {
     "cell_type": "code",
     "collapsed": false,
     "input": [
      "from mpl_toolkits.mplot3d import Axes3D\n",
      "\n",
      "fig = plt.figure(figsize=(10,10))\n",
      "ax = fig.add_subplot(111, projection='3d')\n",
      "ax.plot(x_t[:,0], x_t[:,1], x_t[:,2])"
     ],
     "language": "python",
     "metadata": {},
     "outputs": []
    },
    {
     "cell_type": "markdown",
     "metadata": {},
     "source": [
      "This example was adapted from Jake VanderPlas's excellent [blog post](http://jakevdp.github.io/blog/2013/02/16/animating-the-lorentz-system-in-3d/) where he also shows how to make animated versions of the dynamics using Matplotlib that look like:"
     ]
    },
    {
     "cell_type": "code",
     "collapsed": false,
     "input": [
      "HTML('<iframe src=http://jakevdp.github.io/downloads/videos/lorentz_attractor.mp4 width=600 height=600></iframe>')"
     ],
     "language": "python",
     "metadata": {},
     "outputs": []
    },
    {
     "cell_type": "markdown",
     "metadata": {},
     "source": [
      "# Additional resources\n",
      "\n",
      "Material in this notebook borrowed heavily and in some places copied nearly verbatim from several excellent resources on the web, which I recommend heavily:\n",
      "\n",
      "- Anything written by Jake VanderPlas. This notebook was based mostly on his \"Scientific Computing with Python\" lecture on Numpy:\n",
      "\n",
      "http://www.astro.washington.edu/users/vanderplas/Astr599/schedule\n",
      "\n",
      "- Jake's blog is also a source of constant inspiration:\n",
      "\n",
      "http://jakevdp.github.io/\n",
      "\n",
      "- The **Python Scientific Lecture Notes** are also an excellent source of basic information to get you started, as well as more advanced content:\n",
      "\n",
      "http://scipy-lectures.github.io/\n",
      "\n",
      "\n",
      "- Perusing the NumPy and Scipy documentation is of course invaluable:\n",
      "\n",
      "http://docs.scipy.org/doc/numpy/reference/\n",
      "\n",
      "http://docs.scipy.org/doc/scipy/reference/"
     ]
    }
   ],
   "metadata": {}
  }
 ]
}